{
 "cells": [
  {
   "cell_type": "markdown",
   "metadata": {},
   "source": [
    "## Plug-and-Play Checkpoints: Reproduce Table 1 (NovoMolGen-32M)\n",
    "\n",
    "> *Run this single cell in the notebook; it downloads the checkpoint, samples\n",
    "> 30000 valid/canonical SMILES, evaluates the six metrics used in Table 1, and\n",
    "> renders the result as a tidy dataframe.*"
   ]
  },
  {
   "cell_type": "code",
   "execution_count": null,
   "metadata": {},
   "outputs": [],
   "source": [
    "import os\n",
    "from pathlib import Path\n",
    "\n",
    "os.environ[\"TOKENIZERS_PARALLELISM\"] = \"false\"\n",
    "os.environ[\"HF_HOME\"] = \"/network/scratch/k/kamran.chitsaz/hf_home\"\n",
    "os.chdir(Path(os.getcwd()).parent)\n",
    "\n",
    "from transformers import AutoTokenizer, AutoModelForCausalLM\n",
    "from accelerate import Accelerator\n",
    "import rootutils\n",
    "\n",
    "rootutils.setup_root(os.getcwd(), indicator=\".project-root\", pythonpath=True)\n",
    "\n",
    "from src.eval import MoleculeEvaluator\n",
    "from src.models import generate_valid_smiles, prepare_hf_model\n",
    "from src.data_loader.utils import load_valid_and_test_data\n"
   ]
  },
  {
   "cell_type": "code",
   "execution_count": 2,
   "metadata": {},
   "outputs": [
    {
     "name": "stderr",
     "output_type": "stream",
     "text": [
      "\u001b[32m2025-08-07 15:16:13.542\u001b[0m | \u001b[1mINFO    \u001b[0m | \u001b[36msrc.eval.molecule_evaluation\u001b[0m:\u001b[36m__call__\u001b[0m:\u001b[36m169\u001b[0m - \u001b[1mFraction of valid molecules: 1.00\u001b[0m\n",
      "\u001b[32m2025-08-07 15:16:23.181\u001b[0m | \u001b[1mINFO    \u001b[0m | \u001b[36msrc.eval.molecule_evaluation\u001b[0m:\u001b[36m__call__\u001b[0m:\u001b[36m185\u001b[0m - \u001b[1mEvaluating task: unique@1k\u001b[0m\n",
      "\u001b[32m2025-08-07 15:16:23.507\u001b[0m | \u001b[1mINFO    \u001b[0m | \u001b[36msrc.eval.molecule_evaluation\u001b[0m:\u001b[36m__call__\u001b[0m:\u001b[36m185\u001b[0m - \u001b[1mEvaluating task: IntDiv\u001b[0m\n",
      "\u001b[32m2025-08-07 15:16:42.291\u001b[0m | \u001b[1mINFO    \u001b[0m | \u001b[36msrc.eval.molecule_evaluation\u001b[0m:\u001b[36m__call__\u001b[0m:\u001b[36m185\u001b[0m - \u001b[1mEvaluating task: FCD\u001b[0m\n",
      "\u001b[32m2025-08-07 15:16:55.677\u001b[0m | \u001b[1mINFO    \u001b[0m | \u001b[36msrc.eval.molecule_evaluation\u001b[0m:\u001b[36m__call__\u001b[0m:\u001b[36m185\u001b[0m - \u001b[1mEvaluating task: Frag\u001b[0m\n",
      "\u001b[32m2025-08-07 15:17:13.951\u001b[0m | \u001b[1mINFO    \u001b[0m | \u001b[36msrc.eval.molecule_evaluation\u001b[0m:\u001b[36m__call__\u001b[0m:\u001b[36m185\u001b[0m - \u001b[1mEvaluating task: Scaf\u001b[0m\n",
      "\u001b[32m2025-08-07 15:17:22.162\u001b[0m | \u001b[1mINFO    \u001b[0m | \u001b[36msrc.eval.molecule_evaluation\u001b[0m:\u001b[36m__call__\u001b[0m:\u001b[36m185\u001b[0m - \u001b[1mEvaluating task: SNN\u001b[0m\n"
     ]
    },
    {
     "data": {
      "text/html": [
       "<style type=\"text/css\">\n",
       "</style>\n",
       "<table id=\"T_53d72\">\n",
       "  <caption>NovoMolGen-32 M ─ Table 1 metrics</caption>\n",
       "  <thead>\n",
       "    <tr>\n",
       "      <th id=\"T_53d72_level0_col0\" class=\"col_heading level0 col0\" >Validity</th>\n",
       "      <th id=\"T_53d72_level0_col1\" class=\"col_heading level0 col1\" >Unique@1k</th>\n",
       "      <th id=\"T_53d72_level0_col2\" class=\"col_heading level0 col2\" >IntDiv</th>\n",
       "      <th id=\"T_53d72_level0_col3\" class=\"col_heading level0 col3\" >FCD</th>\n",
       "      <th id=\"T_53d72_level0_col4\" class=\"col_heading level0 col4\" >SNN</th>\n",
       "      <th id=\"T_53d72_level0_col5\" class=\"col_heading level0 col5\" >Frag</th>\n",
       "      <th id=\"T_53d72_level0_col6\" class=\"col_heading level0 col6\" >Scaf</th>\n",
       "    </tr>\n",
       "  </thead>\n",
       "  <tbody>\n",
       "    <tr>\n",
       "      <td id=\"T_53d72_row0_col0\" class=\"data row0 col0\" >0.999300</td>\n",
       "      <td id=\"T_53d72_row0_col1\" class=\"data row0 col1\" >1.000000</td>\n",
       "      <td id=\"T_53d72_row0_col2\" class=\"data row0 col2\" >0.851700</td>\n",
       "      <td id=\"T_53d72_row0_col3\" class=\"data row0 col3\" >0.040600</td>\n",
       "      <td id=\"T_53d72_row0_col4\" class=\"data row0 col4\" >0.465500</td>\n",
       "      <td id=\"T_53d72_row0_col5\" class=\"data row0 col5\" >0.999900</td>\n",
       "      <td id=\"T_53d72_row0_col6\" class=\"data row0 col6\" >0.518900</td>\n",
       "    </tr>\n",
       "  </tbody>\n",
       "</table>\n"
      ],
      "text/plain": [
       "<pandas.io.formats.style.Styler at 0x7f0f34733c10>"
      ]
     },
     "metadata": {},
     "output_type": "display_data"
    }
   ],
   "source": [
    "# 1.  Load pretrained 32 M checkpoint + tokenizer\n",
    "tokenizer = AutoTokenizer.from_pretrained(\"chandar-lab/NovoMolGen_32M_SMILES_AtomWise\", trust_remote_code=True)\n",
    "model = AutoModelForCausalLM.from_pretrained(\"chandar-lab/NovoMolGen_32M_SMILES_AtomWise\", trust_remote_code=True)\n",
    "\n",
    "acc = Accelerator(mixed_precision='bf16')\n",
    "model = acc.prepare(model)\n",
    "\n",
    "# 2.  Load pre-computed dataset stats\n",
    "df_test, df_valid = load_valid_and_test_data(\"MolGen/ZINC_1B-raw\", \"175k\")\n",
    "task = MoleculeEvaluator(\n",
    "    task_names=['unique@1k', 'IntDiv', 'FCD', 'Frag', 'Scaf', 'SNN'],  \n",
    "    valid_stats=df_valid, \n",
    "    test_stats=df_test,\n",
    "    n_jobs=2\n",
    "    )\n",
    "\n",
    "# 3.  Sample 30000 molecules\n",
    "smiles_list = []\n",
    "for _ in range(10):\n",
    "    outputs = model.sample(\n",
    "        tokenizer=tokenizer, \n",
    "        batch_size=3000, \n",
    "        max_length=64, \n",
    "        temperature=1.0, \n",
    "        top_k=1, \n",
    "        top_p=0, \n",
    "        )\n",
    "    smiles_list.extend(outputs['SMILES'])\n",
    "\n",
    "# 4.  Evaluate & display\n",
    "metrics = task(smiles_list, filter=True, return_valid_index=True)\n",
    "\n",
    "import pandas as pd\n",
    "from IPython.display import display\n",
    "\n",
    "row = {\n",
    "    \"Validity\": metrics[\"validity\"],\n",
    "    \"Unique@1k\": metrics[\"unique@1k\"],\n",
    "    \"IntDiv\":    metrics[\"IntDiv\"],\n",
    "    \"FCD\":       metrics[\"FCD\"][\"FCD\"],\n",
    "    \"SNN\":       metrics[\"SNN\"][\"SNN\"],\n",
    "    \"Frag\":      metrics[\"Frag\"][\"Frag\"],\n",
    "    \"Scaf\":      metrics[\"Scaf\"][\"Scaf\"],\n",
    "}\n",
    "\n",
    "df = pd.DataFrame([row]).round(4)\n",
    "display(df.style.hide(axis=\"index\").set_caption(\"NovoMolGen-32 M ─ Table 1 metrics\"))"
   ]
  },
  {
   "cell_type": "markdown",
   "metadata": {},
   "source": [
    "### HF Checkpoint"
   ]
  },
  {
   "cell_type": "code",
   "execution_count": 4,
   "metadata": {},
   "outputs": [
    {
     "name": "stderr",
     "output_type": "stream",
     "text": [
      "\u001b[32m2025-09-02 13:48:23.553\u001b[0m | \u001b[1mINFO    \u001b[0m | \u001b[36msrc.eval.molecule_evaluation\u001b[0m:\u001b[36m__call__\u001b[0m:\u001b[36m169\u001b[0m - \u001b[1mFraction of valid molecules: 1.00\u001b[0m\n",
      "\u001b[32m2025-09-02 13:48:27.322\u001b[0m | \u001b[1mINFO    \u001b[0m | \u001b[36msrc.eval.molecule_evaluation\u001b[0m:\u001b[36m__call__\u001b[0m:\u001b[36m185\u001b[0m - \u001b[1mEvaluating task: unique@1k\u001b[0m\n",
      "\u001b[32m2025-09-02 13:48:27.590\u001b[0m | \u001b[1mINFO    \u001b[0m | \u001b[36msrc.eval.molecule_evaluation\u001b[0m:\u001b[36m__call__\u001b[0m:\u001b[36m185\u001b[0m - \u001b[1mEvaluating task: IntDiv\u001b[0m\n",
      "\u001b[32m2025-09-02 13:48:32.663\u001b[0m | \u001b[1mINFO    \u001b[0m | \u001b[36msrc.eval.molecule_evaluation\u001b[0m:\u001b[36m__call__\u001b[0m:\u001b[36m185\u001b[0m - \u001b[1mEvaluating task: FCD\u001b[0m\n",
      "\u001b[32m2025-09-02 13:48:38.891\u001b[0m | \u001b[1mINFO    \u001b[0m | \u001b[36msrc.eval.molecule_evaluation\u001b[0m:\u001b[36m__call__\u001b[0m:\u001b[36m185\u001b[0m - \u001b[1mEvaluating task: Frag\u001b[0m\n",
      "\u001b[32m2025-09-02 13:48:45.196\u001b[0m | \u001b[1mINFO    \u001b[0m | \u001b[36msrc.eval.molecule_evaluation\u001b[0m:\u001b[36m__call__\u001b[0m:\u001b[36m185\u001b[0m - \u001b[1mEvaluating task: Scaf\u001b[0m\n",
      "\u001b[32m2025-09-02 13:48:48.459\u001b[0m | \u001b[1mINFO    \u001b[0m | \u001b[36msrc.eval.molecule_evaluation\u001b[0m:\u001b[36m__call__\u001b[0m:\u001b[36m185\u001b[0m - \u001b[1mEvaluating task: SNN\u001b[0m\n"
     ]
    },
    {
     "data": {
      "text/html": [
       "<style type=\"text/css\">\n",
       "</style>\n",
       "<table id=\"T_17b51\">\n",
       "  <caption>NovoMolGen-32 M ─ Table 1 metrics</caption>\n",
       "  <thead>\n",
       "    <tr>\n",
       "      <th id=\"T_17b51_level0_col0\" class=\"col_heading level0 col0\" >Validity</th>\n",
       "      <th id=\"T_17b51_level0_col1\" class=\"col_heading level0 col1\" >Unique@1k</th>\n",
       "      <th id=\"T_17b51_level0_col2\" class=\"col_heading level0 col2\" >IntDiv</th>\n",
       "      <th id=\"T_17b51_level0_col3\" class=\"col_heading level0 col3\" >FCD</th>\n",
       "      <th id=\"T_17b51_level0_col4\" class=\"col_heading level0 col4\" >SNN</th>\n",
       "      <th id=\"T_17b51_level0_col5\" class=\"col_heading level0 col5\" >Frag</th>\n",
       "      <th id=\"T_17b51_level0_col6\" class=\"col_heading level0 col6\" >Scaf</th>\n",
       "    </tr>\n",
       "  </thead>\n",
       "  <tbody>\n",
       "    <tr>\n",
       "      <td id=\"T_17b51_row0_col0\" class=\"data row0 col0\" >0.999500</td>\n",
       "      <td id=\"T_17b51_row0_col1\" class=\"data row0 col1\" >1.000000</td>\n",
       "      <td id=\"T_17b51_row0_col2\" class=\"data row0 col2\" >0.851100</td>\n",
       "      <td id=\"T_17b51_row0_col3\" class=\"data row0 col3\" >0.097900</td>\n",
       "      <td id=\"T_17b51_row0_col4\" class=\"data row0 col4\" >0.465800</td>\n",
       "      <td id=\"T_17b51_row0_col5\" class=\"data row0 col5\" >0.999800</td>\n",
       "      <td id=\"T_17b51_row0_col6\" class=\"data row0 col6\" >0.315000</td>\n",
       "    </tr>\n",
       "  </tbody>\n",
       "</table>\n"
      ],
      "text/plain": [
       "<pandas.io.formats.style.Styler at 0x7fe9fa87f550>"
      ]
     },
     "metadata": {},
     "output_type": "display_data"
    }
   ],
   "source": [
    "# 1.  Load HF checkpoint (no flash attention)\n",
    "model = AutoModelForCausalLM.from_pretrained(\"chandar-lab/NovoMolGen_32M_SMILES_AtomWise\", revision='hf-checkpoint', device_map='auto')\n",
    "tokenizer = AutoTokenizer.from_pretrained(\"chandar-lab/NovoMolGen_32M_SMILES_AtomWise\", revision='hf-checkpoint')\n",
    "model = prepare_hf_model(model)\n",
    "\n",
    "# 2.  Load pre-computed dataset stats\n",
    "df_test, df_valid = load_valid_and_test_data(\"MolGen/ZINC_1B-raw\", \"175k\")\n",
    "task = MoleculeEvaluator(\n",
    "    task_names=['unique@1k', 'IntDiv', 'FCD', 'Frag', 'Scaf', 'SNN'],  \n",
    "    valid_stats=df_valid, \n",
    "    test_stats=df_test,\n",
    "    n_jobs=2\n",
    "    )\n",
    "\n",
    "# 3.  Sample 30000 molecules\n",
    "smiles_list = []\n",
    "for _ in range(10):\n",
    "    outputs = model.sample(\n",
    "        tokenizer=tokenizer, \n",
    "        batch_size=1000, \n",
    "        max_length=64, \n",
    "        temperature=1.0, \n",
    "        top_k=0, \n",
    "        top_p=1.0,\n",
    "        do_sample=True, \n",
    "        )\n",
    "    smiles_list.extend(outputs['SMILES'])\n",
    "\n",
    "# 4.  Evaluate & display\n",
    "metrics = task(smiles_list, filter=True, return_valid_index=True)\n",
    "\n",
    "import pandas as pd\n",
    "from IPython.display import display\n",
    "\n",
    "row = {\n",
    "    \"Validity\": metrics[\"validity\"],\n",
    "    \"Unique@1k\": metrics[\"unique@1k\"],\n",
    "    \"IntDiv\":    metrics[\"IntDiv\"],\n",
    "    \"FCD\":       metrics[\"FCD\"][\"FCD\"],\n",
    "    \"SNN\":       metrics[\"SNN\"][\"SNN\"],\n",
    "    \"Frag\":      metrics[\"Frag\"][\"Frag\"],\n",
    "    \"Scaf\":      metrics[\"Scaf\"][\"Scaf\"],\n",
    "}\n",
    "\n",
    "df = pd.DataFrame([row]).round(4)\n",
    "display(df.style.hide(axis=\"index\").set_caption(\"NovoMolGen-32 M ─ Table 1 metrics\"))"
   ]
  },
  {
   "cell_type": "code",
   "execution_count": null,
   "metadata": {},
   "outputs": [],
   "source": []
  }
 ],
 "metadata": {
  "kernelspec": {
   "display_name": "NovoMol2",
   "language": "python",
   "name": "python3"
  },
  "language_info": {
   "codemirror_mode": {
    "name": "ipython",
    "version": 3
   },
   "file_extension": ".py",
   "mimetype": "text/x-python",
   "name": "python",
   "nbconvert_exporter": "python",
   "pygments_lexer": "ipython3",
   "version": "3.10.14"
  }
 },
 "nbformat": 4,
 "nbformat_minor": 4
}
